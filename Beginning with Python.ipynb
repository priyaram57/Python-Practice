{
 "cells": [
  {
   "cell_type": "code",
   "execution_count": 3,
   "metadata": {},
   "outputs": [
    {
     "name": "stdout",
     "output_type": "stream",
     "text": [
      "\n",
      "Please wait a moment while I gather a list of all available modules...\n",
      "\n"
     ]
    },
    {
     "name": "stderr",
     "output_type": "stream",
     "text": [
      "C:\\ProgramData\\Anaconda3\\lib\\site-packages\\IPython\\kernel\\__init__.py:12: ShimWarning: The `IPython.kernel` package has been deprecated since IPython 4.0.You should import from ipykernel or jupyter_client instead.\n",
      "  warn(\"The `IPython.kernel` package has been deprecated since IPython 4.0.\"\n",
      "C:\\ProgramData\\Anaconda3\\lib\\site-packages\\nltk\\twitter\\__init__.py:21: UserWarning: The twython library has not been installed. Some functionality from the twitter package will not be available.\n",
      "  warnings.warn(\n",
      "C:\\ProgramData\\Anaconda3\\lib\\site-packages\\setuptools\\distutils_patch.py:25: UserWarning: Distutils was imported before Setuptools. This usage is discouraged and may exhibit undesirable behaviors or errors. Please use Setuptools' objects directly or at least import Setuptools first.\n",
      "  warnings.warn(\n",
      "C:\\ProgramData\\Anaconda3\\lib\\site-packages\\skimage\\viewer\\utils\\__init__.py:1: UserWarning: Recommended matplotlib backend is `Agg` for full skimage.viewer functionality.\n",
      "  from .core import *\n"
     ]
    },
    {
     "name": "stdout",
     "output_type": "stream",
     "text": [
      "Update LANGUAGE_CODES (inside config/base.py) if a new translation has been added to Spyder\n"
     ]
    },
    {
     "name": "stderr",
     "output_type": "stream",
     "text": [
      "C:\\ProgramData\\Anaconda3\\lib\\site-packages\\qtawesome\\iconic_font.py:312: UserWarning: You need to have a running QApplication to use QtAwesome!\n",
      "  warnings.warn(\"You need to have a running \"\n",
      "C:\\ProgramData\\Anaconda3\\lib\\pkgutil.py:107: VisibleDeprecationWarning: zmq.eventloop.minitornado is deprecated in pyzmq 14.0 and will be removed.\n",
      "    Install tornado itself to use zmq with the tornado IOLoop.\n",
      "    \n",
      "  yield from walk_packages(path, info.name+'.', onerror)\n"
     ]
    },
    {
     "name": "stdout",
     "output_type": "stream",
     "text": [
      "Cython              brain_scipy_signal  mailcap             snowballstemmer\n",
      "IPython             brain_six           markupsafe          socket\n",
      "OpenSSL             brain_ssl           marshal             socketserver\n",
      "PIL                 brain_subprocess    math                socks\n",
      "PyQt5               brain_threading     matplotlib          sockshandler\n",
      "__future__          brain_typing        mccabe              sortedcollections\n",
      "_abc                brain_uuid          menuinst            sortedcontainers\n",
      "_ast                brotli              mimetypes           soupsieve\n",
      "_asyncio            bs4                 mistune             sphinx\n",
      "_bisect             builtins            mkl                 sphinxcontrib\n",
      "_blake2             bz2                 mkl_fft             spyder\n",
      "_bootlocale         cProfile            mkl_random          spyder_kernels\n",
      "_bz2                calendar            mmap                sqlalchemy\n",
      "_cffi_backend       certifi             mmapfile            sqlite3\n",
      "_codecs             cffi                mmsystem            sre_compile\n",
      "_codecs_cn          cgi                 mock                sre_constants\n",
      "_codecs_hk          cgitb               modulefinder        sre_parse\n",
      "_codecs_iso2022     chardet             more_itertools      ssl\n",
      "_codecs_jp          chunk               mpmath              sspi\n",
      "_codecs_kr          click               msgpack             sspicon\n",
      "_codecs_tw          cloudpickle         msilib              stat\n",
      "_collections        clyent              msvcrt              statistics\n",
      "_collections_abc    cmath               multipledispatch    statsmodels\n",
      "_compat_pickle      cmd                 multiprocessing     storemagic\n",
      "_compression        code                nacl                string\n",
      "_contextvars        codecs              navigator_updater   stringprep\n",
      "_csv                codeop              nbconvert           struct\n",
      "_ctypes             collections         nbformat            subprocess\n",
      "_ctypes_test        colorama            netbios             sunau\n",
      "_datetime           colorsys            netrc               symbol\n",
      "_decimal            commctrl            networkx            sympy\n",
      "_dummy_thread       compileall          nltk                sympyprinting\n",
      "_elementtree        comtypes            nntplib             symtable\n",
      "_functools          concurrent          nose                sys\n",
      "_hashlib            conda               notebook            sysconfig\n",
      "_heapq              conda_build         nt                  tables\n",
      "_imp                conda_env           ntpath              tabnanny\n",
      "_io                 conda_package_handling ntsecuritycon       tarfile\n",
      "_json               conda_verify        nturl2path          tblib\n",
      "_locale             configparser        numba               telnetlib\n",
      "_lsprof             contextlib          numbers             tempfile\n",
      "_lzma               contextlib2         numexpr             terminado\n",
      "_markupbase         contextvars         numpy               test\n",
      "_md5                copy                numpydoc            test_data\n",
      "_msi                copyreg             odbc                test_pycosat\n",
      "_multibytecodec     crypt               olefile             testpath\n",
      "_multiprocessing    cryptography        opcode              tests\n",
      "_nsis               csv                 openpyxl            textwrap\n",
      "_opcode             ctypes              operator            this\n",
      "_operator           curl                optparse            threading\n",
      "_osx_support        curses              os                  threadpoolctl\n",
      "_overlapped         cwp                 packaging           time\n",
      "_pickle             cycler              pandas              timeit\n",
      "_py_abc             cython              pandocfilters       timer\n",
      "_pydecimal          cythonmagic         paramiko            tkinter\n",
      "_pyio               cytoolz             parser              tlz\n",
      "_pyrsistent_version dask                parso               token\n",
      "_pytest             dataclasses         partd               tokenize\n",
      "_queue              datetime            past                toml\n",
      "_random             dateutil            path                toolz\n",
      "_sha1               dbi                 pathlib             tornado\n",
      "_sha256             dbm                 pathlib2            tqdm\n",
      "_sha3               dde                 pathtools           trace\n",
      "_sha512             decimal             patsy               traceback\n",
      "_signal             decorator           pdb                 tracemalloc\n",
      "_sitebuiltins       defusedxml          pep8                traitlets\n",
      "_socket             diff_match_patch    perfmon             tty\n",
      "_sqlite3            difflib             pexpect             turtle\n",
      "_sre                dis                 pickle              turtledemo\n",
      "_ssl                distributed         pickleshare         types\n",
      "_stat               distutils           pickletools         typing\n",
      "_statistics         doctest             pip                 typing_extensions\n",
      "_string             docutils            pipes               ujson\n",
      "_strptime           dummy_threading     pkg_resources       unicodecsv\n",
      "_struct             easy_install        pkginfo             unicodedata\n",
      "_symtable           email               pkgutil             unittest\n",
      "_system_path        encodings           platform            urllib\n",
      "_testbuffer         ensurepip           plistlib            urllib3\n",
      "_testcapi           entrypoints         pluggy              uu\n",
      "_testconsole        enum                ply                 uuid\n",
      "_testimportmultiple errno               poplib              venv\n",
      "_testinternalcapi   et_xmlfile          posixpath           warnings\n",
      "_testmultiphase     f2                  pprint              watchdog\n",
      "_thread             fastcache           profile             wave\n",
      "_threading_local    faulthandler        prometheus_client   wcwidth\n",
      "_tkinter            filecmp             prompt_toolkit      weakref\n",
      "_tracemalloc        fileinput           pstats              webbrowser\n",
      "_warnings           filelock            psutil              webencodings\n",
      "_weakref            firstcode           pty                 werkzeug\n",
      "_weakrefset         flake8              pvectorc            wheel\n",
      "_win32sysloader     flask               py                  widgetsnbextension\n",
      "_winapi             fnmatch             py_compile          win2kras\n",
      "_winxptheme         formatter           pyclbr              win32api\n",
      "_xxsubinterpreters  fractions           pycodestyle         win32clipboard\n",
      "_yaml               fsspec              pycosat             win32com\n",
      "abc                 ftplib              pycparser           win32con\n",
      "adodbapi            functools           pycurl              win32console\n",
      "afxres              future              pydoc               win32cred\n",
      "aifc                gc                  pydoc_data          win32crypt\n",
      "alabaster           genericpath         pydocstyle          win32cryptcon\n",
      "anaconda_navigator  getopt              pyexpat             win32ctypes\n",
      "anaconda_project    getpass             pyflakes            win32event\n",
      "antigravity         gettext             pygments            win32evtlog\n",
      "argh                gevent              pylab               win32evtlogutil\n",
      "argparse            glob                pylint              win32file\n",
      "array               glob2               pyls                win32gui\n",
      "asn1crypto          gmpy2               pyls_jsonrpc        win32gui_struct\n",
      "ast                 greenlet            pyodbc              win32help\n",
      "astroid             gzip                pyparsing           win32inet\n",
      "astropy             h5py                pyreadline          win32inetcon\n",
      "asynchat            hashlib             pyrsistent          win32job\n",
      "asyncio             heapdict            pytest              win32lz\n",
      "asyncore            heapq               pythoncom           win32net\n",
      "atexit              hmac                pytz                win32netcon\n",
      "atomicwrites        html                pywin               win32pdh\n",
      "attr                html5lib            pywin32_bootstrap   win32pdhquery\n",
      "audioop             http                pywin32_testutil    win32pdhutil\n"
     ]
    },
    {
     "name": "stdout",
     "output_type": "stream",
     "text": [
      "autopep8            idlelib             pywintypes          win32pipe\n",
      "autoreload          idna                pywt                win32print\n",
      "babel               imageio             pyximport           win32process\n",
      "backcall            imagesize           qdarkstyle          win32profile\n",
      "backports           imaplib             qtawesome           win32ras\n",
      "base64              imghdr              qtconsole           win32rcparser\n",
      "bcrypt              imp                 qtpy                win32security\n",
      "bdb                 importlib           queue               win32service\n",
      "binascii            importlib_metadata  quopri              win32serviceutil\n",
      "binhex              inspect             random              win32timezone\n",
      "binstar_client      intervaltree        rasutil             win32trace\n",
      "bisect              io                  re                  win32traceutil\n",
      "bitarray            ipaddress           readline            win32transaction\n",
      "bkcharts            ipykernel           regcheck            win32ts\n",
      "bleach              ipykernel_launcher  regex               win32ui\n",
      "bokeh               ipython_genutils    regutil             win32uiole\n",
      "boto                ipywidgets          reprlib             win32verstamp\n",
      "bottleneck          isapi               requests            win32wnet\n",
      "brain_argparse      isort               rlcompleter         win_inet_pton\n",
      "brain_attrs         isympy              rmagic              win_unicode_console\n",
      "brain_boto3         itertools           rope                wincertstore\n",
      "brain_builtin_inference itsdangerous        rtree               winerror\n",
      "brain_collections   jdcal               ruamel_yaml         winioctlcon\n",
      "brain_crypt         jedi                run                 winnt\n",
      "brain_curses        jinja2              runpy               winperf\n",
      "brain_dataclasses   joblib              sched               winpty\n",
      "brain_dateutil      json                scipy               winreg\n",
      "brain_fstrings      json5               scripts             winsound\n",
      "brain_functools     jsonschema          seaborn             winxpgui\n",
      "brain_gi            jupyter             secrets             winxptheme\n",
      "brain_hashlib       jupyter_client      select              wrapt\n",
      "brain_http          jupyter_console     selectors           wsgiref\n",
      "brain_io            jupyter_core        send2trash          xdrlib\n",
      "brain_mechanize     jupyterlab          servicemanager      xlrd\n",
      "brain_multiprocessing jupyterlab_server   setuptools          xlsxwriter\n",
      "brain_namedtuple_enum keyring             shelve              xlwings\n",
      "brain_nose          keyword             shlex               xlwt\n",
      "brain_numpy_core_fromnumeric kiwisolver          shutil              xml\n",
      "brain_numpy_core_function_base lazy_object_proxy   signal              xmlrpc\n",
      "brain_numpy_core_multiarray lib2to3             simplegeneric       xmltodict\n",
      "brain_numpy_core_numeric libarchive          singledispatch      xxsubtype\n",
      "brain_numpy_core_numerictypes libfuturize         singledispatch_helpers yaml\n",
      "brain_numpy_core_umath libpasteurize       sip                 yapf\n",
      "brain_numpy_ndarray lief                sipconfig           yapftests\n",
      "brain_numpy_random_mtrand linecache           sipdistutils        zict\n",
      "brain_numpy_utils   llvmlite            site                zipapp\n",
      "brain_pkg_resources locale              six                 zipfile\n",
      "brain_pytest        locket              skimage             zipimport\n",
      "brain_qt            logging             sklearn             zipp\n",
      "brain_random        lxml                smtpd               zlib\n",
      "brain_re            lzma                smtplib             zmq\n",
      "brain_responses     mailbox             sndhdr              zope\n",
      "\n",
      "Enter any module name to get more help.  Or, type \"modules spam\" to search\n",
      "for modules whose name or summary contain the string \"spam\".\n",
      "\n"
     ]
    }
   ],
   "source": [
    "#To check the list of packages in Anaconda Python\n",
    "help('modules')"
   ]
  },
  {
   "cell_type": "code",
   "execution_count": 5,
   "metadata": {},
   "outputs": [],
   "source": [
    "#Importing a package\n",
    "import numpy"
   ]
  },
  {
   "cell_type": "code",
   "execution_count": 26,
   "metadata": {},
   "outputs": [
    {
     "name": "stdout",
     "output_type": "stream",
     "text": [
      "100\n",
      "Priya\n",
      "Sonia\n"
     ]
    }
   ],
   "source": [
    "#Variables\n",
    "num = 100 #Integer\n",
    "print(num)\n",
    "\n",
    "name = \"Priya\" #String\n",
    "print(name)\n",
    "\n",
    "#Case sensitivity\n",
    "NAME = \"Sonia\"\n",
    "print(NAME)"
   ]
  },
  {
   "cell_type": "code",
   "execution_count": 32,
   "metadata": {},
   "outputs": [
    {
     "name": "stdout",
     "output_type": "stream",
     "text": [
      "<class 'int'>\n",
      "<class 'float'>\n",
      "\n",
      "<class 'int'> 28\n",
      "<class 'int'> 68\n"
     ]
    }
   ],
   "source": [
    "#Python is dynamically typed programming language\n",
    "\n",
    "import sys\n",
    "a = 10\n",
    "print(type(a))\n",
    "\n",
    "b = 10.10\n",
    "print(type(b))\n",
    "print()\n",
    "\n",
    "#------------\n",
    "\n",
    "a = 10\n",
    "print(type(a),sys.getsizeof(a))\n",
    "\n",
    "c = 100000000000000000000000000000000000000000000000000000000000000000000000000000000000000000000000\n",
    "print(type(c),sys.getsizeof(c))\n"
   ]
  },
  {
   "cell_type": "code",
   "execution_count": 33,
   "metadata": {},
   "outputs": [
    {
     "name": "stdout",
     "output_type": "stream",
     "text": [
      "This is \"Python.\" learning <class 'str'>\n",
      "This is Sonia's book. <class 'str'>\n",
      "This is Sonia's \"Python\" book. <class 'str'>\n",
      "This is Sonia's \"Python\" book. <class 'str'>\n",
      "\n",
      "This\n",
      "is\n",
      "Python\n",
      "learning <class 'str'>\n"
     ]
    }
   ],
   "source": [
    "#Strings in Python\n",
    "\n",
    "a = 'This is \"Python.\" learning' #Single quotation\n",
    "print(a, type (a))\n",
    "\n",
    "a = \"This is Sonia's book.\" #Double quotation\n",
    "print(a, type(a))\n",
    "\n",
    "a = '''This is Sonia's \"Python\" book.'''  #Triple quotation of single quotations\n",
    "print(a, type(a))\n",
    "\n",
    "a = \"\"\"This is Sonia's \"Python\" book.\"\"\"  #Triple quotation of double quotations\n",
    "print(a, type(a))\n",
    "print()\n",
    "\n",
    "#Triple quotation as a multiline string\n",
    "a = '''This\n",
    "is\n",
    "Python\n",
    "learning'''\n",
    "print(a, type(a))"
   ]
  },
  {
   "cell_type": "code",
   "execution_count": 29,
   "metadata": {},
   "outputs": [
    {
     "name": "stdout",
     "output_type": "stream",
     "text": [
      "P\n",
      "n\n",
      "n\n"
     ]
    }
   ],
   "source": [
    "#String Indexing -  used to access one element from a string\n",
    "\n",
    "b = \"Python\"\n",
    "\n",
    "#     P  y  t  h  o  n\n",
    "#     0  1  2  3  4  5        -----> positive indexing\n",
    "#    -6 -5 -4 -3 -2 -1        <----- negative indexing\n",
    "\n",
    "print(b[0])   #first element\n",
    "print(b[-1])  #last element\n",
    "print(b[5])   #last element"
   ]
  },
  {
   "cell_type": "code",
   "execution_count": 40,
   "metadata": {},
   "outputs": [
    {
     "name": "stdout",
     "output_type": "stream",
     "text": [
      "Python\n",
      "Pto\n",
      "Ph\n",
      "ython \n",
      "Pytho\n",
      "\n",
      "this is Python learning\n",
      "gninrael nohtyP si siht\n",
      "gire otPs it\n"
     ]
    }
   ],
   "source": [
    "#String slicing - used to access multiple elements of a string at a time\n",
    "\n",
    "a = \"this is Python learning\"\n",
    "\n",
    "print(a[8:14]) #Positive indexing\n",
    "print(a[8:14:2])\n",
    "print(a[8:14:3])\n",
    "print(a[-14:-8:1])\n",
    "print(a[8:-10:1])\n",
    "print()\n",
    "print(a[::1])\n",
    "print(a[::-1]) #negative indexing\n",
    "print(a[::-2])"
   ]
  },
  {
   "cell_type": "code",
   "execution_count": null,
   "metadata": {},
   "outputs": [],
   "source": []
  },
  {
   "cell_type": "code",
   "execution_count": 4,
   "metadata": {},
   "outputs": [
    {
     "name": "stdout",
     "output_type": "stream",
     "text": [
      "Enter a number: 4.6\n"
     ]
    },
    {
     "ename": "ValueError",
     "evalue": "invalid literal for int() with base 10: '4.6'",
     "output_type": "error",
     "traceback": [
      "\u001b[1;31m---------------------------------------------------------------------------\u001b[0m",
      "\u001b[1;31mValueError\u001b[0m                                Traceback (most recent call last)",
      "\u001b[1;32m<ipython-input-4-a2b5ba5522ab>\u001b[0m in \u001b[0;36m<module>\u001b[1;34m\u001b[0m\n\u001b[0;32m      1\u001b[0m \u001b[1;31m#Eval function\u001b[0m\u001b[1;33m\u001b[0m\u001b[1;33m\u001b[0m\u001b[1;33m\u001b[0m\u001b[0m\n\u001b[0;32m      2\u001b[0m \u001b[1;31m#case1:\u001b[0m\u001b[1;33m\u001b[0m\u001b[1;33m\u001b[0m\u001b[1;33m\u001b[0m\u001b[0m\n\u001b[1;32m----> 3\u001b[1;33m \u001b[0ma\u001b[0m \u001b[1;33m=\u001b[0m \u001b[0mint\u001b[0m\u001b[1;33m(\u001b[0m\u001b[0minput\u001b[0m\u001b[1;33m(\u001b[0m\u001b[1;34m\"Enter a number: \"\u001b[0m\u001b[1;33m)\u001b[0m\u001b[1;33m)\u001b[0m\u001b[1;33m\u001b[0m\u001b[1;33m\u001b[0m\u001b[0m\n\u001b[0m\u001b[0;32m      4\u001b[0m \u001b[0mprint\u001b[0m\u001b[1;33m(\u001b[0m\u001b[0ma\u001b[0m\u001b[1;33m,\u001b[0m \u001b[0mtype\u001b[0m\u001b[1;33m(\u001b[0m\u001b[0ma\u001b[0m\u001b[1;33m)\u001b[0m\u001b[1;33m)\u001b[0m\u001b[1;33m\u001b[0m\u001b[1;33m\u001b[0m\u001b[0m\n",
      "\u001b[1;31mValueError\u001b[0m: invalid literal for int() with base 10: '4.6'"
     ]
    }
   ],
   "source": [
    "#Eval function\n",
    "#case1:\n",
    "a = int(input(\"Enter a number: \")) \n",
    "print(a, type(a))"
   ]
  },
  {
   "cell_type": "code",
   "execution_count": 6,
   "metadata": {},
   "outputs": [
    {
     "name": "stdout",
     "output_type": "stream",
     "text": [
      "Enter a list: [10,20,30]\n",
      "['[', '1', '0', ',', '2', '0', ',', '3', '0', ']'] <class 'list'>\n"
     ]
    }
   ],
   "source": [
    "#Eval function\n",
    "#case 2:\n",
    "a = list(input(\"Enter a list: \"))\n",
    "print(a, type(a)) #Does not give the expected result"
   ]
  },
  {
   "cell_type": "code",
   "execution_count": 7,
   "metadata": {},
   "outputs": [
    {
     "data": {
      "text/plain": [
       "300"
      ]
     },
     "execution_count": 7,
     "metadata": {},
     "output_type": "execute_result"
    }
   ],
   "source": [
    "#a = eval(input())\n",
    "#eval function evaluates any expression within single quotes\n",
    "p = 100\n",
    "eval('p+200')"
   ]
  },
  {
   "cell_type": "code",
   "execution_count": 12,
   "metadata": {},
   "outputs": [
    {
     "data": {
      "text/plain": [
       "[10, 20, 30]"
      ]
     },
     "execution_count": 12,
     "metadata": {},
     "output_type": "execute_result"
    }
   ],
   "source": [
    "eval('[10,20,30]')"
   ]
  },
  {
   "cell_type": "code",
   "execution_count": 13,
   "metadata": {},
   "outputs": [
    {
     "ename": "TypeError",
     "evalue": "eval() arg 1 must be a string, bytes or code object",
     "output_type": "error",
     "traceback": [
      "\u001b[1;31m---------------------------------------------------------------------------\u001b[0m",
      "\u001b[1;31mTypeError\u001b[0m                                 Traceback (most recent call last)",
      "\u001b[1;32m<ipython-input-13-9bc374678107>\u001b[0m in \u001b[0;36m<module>\u001b[1;34m\u001b[0m\n\u001b[1;32m----> 1\u001b[1;33m \u001b[0meval\u001b[0m\u001b[1;33m(\u001b[0m\u001b[1;33m[\u001b[0m\u001b[1;36m10\u001b[0m\u001b[1;33m,\u001b[0m\u001b[1;36m20\u001b[0m\u001b[1;33m,\u001b[0m\u001b[1;36m30\u001b[0m\u001b[1;33m]\u001b[0m\u001b[1;33m)\u001b[0m\u001b[1;33m\u001b[0m\u001b[1;33m\u001b[0m\u001b[0m\n\u001b[0m",
      "\u001b[1;31mTypeError\u001b[0m: eval() arg 1 must be a string, bytes or code object"
     ]
    }
   ],
   "source": [
    "eval([10,20,30])"
   ]
  },
  {
   "cell_type": "code",
   "execution_count": 14,
   "metadata": {},
   "outputs": [
    {
     "name": "stdout",
     "output_type": "stream",
     "text": [
      "Enter a list[10,20,40]\n",
      "[10, 20, 40] <class 'list'>\n"
     ]
    }
   ],
   "source": [
    "a = eval(input('Enter a list'))\n",
    "print(a,type(a))"
   ]
  },
  {
   "cell_type": "code",
   "execution_count": null,
   "metadata": {},
   "outputs": [],
   "source": []
  }
 ],
 "metadata": {
  "kernelspec": {
   "display_name": "Python 3",
   "language": "python",
   "name": "python3"
  },
  "language_info": {
   "codemirror_mode": {
    "name": "ipython",
    "version": 3
   },
   "file_extension": ".py",
   "mimetype": "text/x-python",
   "name": "python",
   "nbconvert_exporter": "python",
   "pygments_lexer": "ipython3",
   "version": "3.8.3"
  }
 },
 "nbformat": 4,
 "nbformat_minor": 4
}
