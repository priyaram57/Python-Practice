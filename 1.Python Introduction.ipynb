{
 "cells": [
  {
   "cell_type": "code",
   "execution_count": 1,
   "metadata": {},
   "outputs": [
    {
     "name": "stdout",
     "output_type": "stream",
     "text": [
      "Hello !!\n"
     ]
    }
   ],
   "source": [
    "print(\"Hello !!\") #prints in python output console"
   ]
  },
  {
   "cell_type": "code",
   "execution_count": 2,
   "metadata": {},
   "outputs": [
    {
     "data": {
      "text/plain": [
       "4"
      ]
     },
     "execution_count": 2,
     "metadata": {},
     "output_type": "execute_result"
    }
   ],
   "source": [
    "2+2"
   ]
  },
  {
   "cell_type": "code",
   "execution_count": 3,
   "metadata": {},
   "outputs": [
    {
     "name": "stdout",
     "output_type": "stream",
     "text": [
      "Hello there !!\n"
     ]
    }
   ],
   "source": [
    "my_str = \"Hello there !!\"\n",
    "print(my_str)"
   ]
  },
  {
   "cell_type": "code",
   "execution_count": 4,
   "metadata": {},
   "outputs": [
    {
     "name": "stdout",
     "output_type": "stream",
     "text": [
      "1\n"
     ]
    }
   ],
   "source": [
    "print(1)"
   ]
  },
  {
   "cell_type": "code",
   "execution_count": 5,
   "metadata": {},
   "outputs": [
    {
     "name": "stdout",
     "output_type": "stream",
     "text": [
      "5\n"
     ]
    },
    {
     "data": {
      "text/plain": [
       "5"
      ]
     },
     "execution_count": 5,
     "metadata": {},
     "output_type": "execute_result"
    }
   ],
   "source": [
    "a=5\n",
    "print(a)\n",
    "a     #Expression in the last line of a code cell is always printed as out"
   ]
  },
  {
   "cell_type": "code",
   "execution_count": 7,
   "metadata": {},
   "outputs": [
    {
     "data": {
      "text/plain": [
       "15"
      ]
     },
     "execution_count": 7,
     "metadata": {},
     "output_type": "execute_result"
    }
   ],
   "source": [
    "5\n",
    "10\n",
    "15   #Expression in the last line of a code cell is always printed as out"
   ]
  },
  {
   "cell_type": "code",
   "execution_count": 9,
   "metadata": {},
   "outputs": [
    {
     "name": "stdout",
     "output_type": "stream",
     "text": [
      "5\n",
      "105\n"
     ]
    }
   ],
   "source": [
    "print(a)\n",
    "a\n",
    "print (a+100)\n",
    "a+10\n",
    "x = a # only assignment statement, so nothing is printed"
   ]
  },
  {
   "cell_type": "code",
   "execution_count": 10,
   "metadata": {},
   "outputs": [
    {
     "name": "stdout",
     "output_type": "stream",
     "text": [
      "0\n",
      "1\n",
      "2\n",
      "3\n",
      "4\n"
     ]
    }
   ],
   "source": [
    "for i in range(5):\n",
    "    print(i)"
   ]
  },
  {
   "cell_type": "code",
   "execution_count": 12,
   "metadata": {},
   "outputs": [
    {
     "name": "stdout",
     "output_type": "stream",
     "text": [
      "30\n",
      "None\n",
      "\n",
      "200\n"
     ]
    }
   ],
   "source": [
    "def f1(a,b): #f1 has no return value, so the default return value of None is returned\n",
    "    print(a+b)\n",
    "    \n",
    "print(f1(10,20))\n",
    "print()\n",
    "\n",
    "    \n",
    "def f2(a,b):\n",
    "    return a*b\n",
    "\n",
    "print(f2(10,20))"
   ]
  },
  {
   "cell_type": "code",
   "execution_count": 13,
   "metadata": {},
   "outputs": [
    {
     "name": "stdout",
     "output_type": "stream",
     "text": [
      "['In', 'Out', '_', '_2', '_5', '_6', '_7', '__', '___', '__builtin__', '__builtins__', '__doc__', '__loader__', '__name__', '__package__', '__spec__', '_dh', '_i', '_i1', '_i10', '_i11', '_i12', '_i13', '_i2', '_i3', '_i4', '_i5', '_i6', '_i7', '_i8', '_i9', '_ih', '_ii', '_iii', '_oh', 'a', 'exit', 'f1', 'f2', 'get_ipython', 'i', 'my_str', 'quit', 'x']\n"
     ]
    }
   ],
   "source": [
    "print(dir()) # methods/properties found in the current directory(i.e global scope)"
   ]
  },
  {
   "cell_type": "code",
   "execution_count": 14,
   "metadata": {},
   "outputs": [
    {
     "name": "stdout",
     "output_type": "stream",
     "text": [
      "['False', 'None', 'True', 'and', 'as', 'assert', 'async', 'await', 'break', 'class', 'continue', 'def', 'del', 'elif', 'else', 'except', 'finally', 'for', 'from', 'global', 'if', 'import', 'in', 'is', 'lambda', 'nonlocal', 'not', 'or', 'pass', 'raise', 'return', 'try', 'while', 'with', 'yield']\n"
     ]
    }
   ],
   "source": [
    "# Reserved words \n",
    "import keyword\n",
    "print(keyword.kwlist) "
   ]
  },
  {
   "cell_type": "code",
   "execution_count": 15,
   "metadata": {},
   "outputs": [
    {
     "name": "stdout",
     "output_type": "stream",
     "text": [
      "['__abs__', '__add__', '__and__', '__bool__', '__ceil__', '__class__', '__delattr__', '__dir__', '__divmod__', '__doc__', '__eq__', '__float__', '__floor__', '__floordiv__', '__format__', '__ge__', '__getattribute__', '__getnewargs__', '__gt__', '__hash__', '__index__', '__init__', '__init_subclass__', '__int__', '__invert__', '__le__', '__lshift__', '__lt__', '__mod__', '__mul__', '__ne__', '__neg__', '__new__', '__or__', '__pos__', '__pow__', '__radd__', '__rand__', '__rdivmod__', '__reduce__', '__reduce_ex__', '__repr__', '__rfloordiv__', '__rlshift__', '__rmod__', '__rmul__', '__ror__', '__round__', '__rpow__', '__rrshift__', '__rshift__', '__rsub__', '__rtruediv__', '__rxor__', '__setattr__', '__sizeof__', '__str__', '__sub__', '__subclasshook__', '__truediv__', '__trunc__', '__xor__', 'as_integer_ratio', 'bit_length', 'conjugate', 'denominator', 'from_bytes', 'imag', 'numerator', 'real', 'to_bytes']\n"
     ]
    }
   ],
   "source": [
    "print(dir(int)) #other reserved words"
   ]
  },
  {
   "cell_type": "code",
   "execution_count": 16,
   "metadata": {},
   "outputs": [
    {
     "name": "stdout",
     "output_type": "stream",
     "text": [
      "['__abs__', '__add__', '__bool__', '__class__', '__delattr__', '__dir__', '__divmod__', '__doc__', '__eq__', '__float__', '__floordiv__', '__format__', '__ge__', '__getattribute__', '__getformat__', '__getnewargs__', '__gt__', '__hash__', '__init__', '__init_subclass__', '__int__', '__le__', '__lt__', '__mod__', '__mul__', '__ne__', '__neg__', '__new__', '__pos__', '__pow__', '__radd__', '__rdivmod__', '__reduce__', '__reduce_ex__', '__repr__', '__rfloordiv__', '__rmod__', '__rmul__', '__round__', '__rpow__', '__rsub__', '__rtruediv__', '__set_format__', '__setattr__', '__sizeof__', '__str__', '__sub__', '__subclasshook__', '__truediv__', '__trunc__', 'as_integer_ratio', 'conjugate', 'fromhex', 'hex', 'imag', 'is_integer', 'real']\n"
     ]
    }
   ],
   "source": [
    "print(dir(float)) "
   ]
  },
  {
   "cell_type": "code",
   "execution_count": 17,
   "metadata": {},
   "outputs": [
    {
     "ename": "NameError",
     "evalue": "name 'math' is not defined",
     "output_type": "error",
     "traceback": [
      "\u001b[1;31m---------------------------------------------------------------------------\u001b[0m",
      "\u001b[1;31mNameError\u001b[0m                                 Traceback (most recent call last)",
      "\u001b[1;32m<ipython-input-17-c39c78ac0b0c>\u001b[0m in \u001b[0;36m<module>\u001b[1;34m\u001b[0m\n\u001b[1;32m----> 1\u001b[1;33m \u001b[0mprint\u001b[0m\u001b[1;33m(\u001b[0m\u001b[0mdir\u001b[0m\u001b[1;33m(\u001b[0m\u001b[0mmath\u001b[0m\u001b[1;33m)\u001b[0m\u001b[1;33m)\u001b[0m  \u001b[1;31m#math module is not in-built and has to be imported\u001b[0m\u001b[1;33m\u001b[0m\u001b[1;33m\u001b[0m\u001b[0m\n\u001b[0m",
      "\u001b[1;31mNameError\u001b[0m: name 'math' is not defined"
     ]
    }
   ],
   "source": [
    "print(dir(math))  #math module is not in-built and has to be imported"
   ]
  },
  {
   "cell_type": "code",
   "execution_count": 18,
   "metadata": {},
   "outputs": [
    {
     "name": "stdout",
     "output_type": "stream",
     "text": [
      "['__doc__', '__loader__', '__name__', '__package__', '__spec__', 'acos', 'acosh', 'asin', 'asinh', 'atan', 'atan2', 'atanh', 'ceil', 'comb', 'copysign', 'cos', 'cosh', 'degrees', 'dist', 'e', 'erf', 'erfc', 'exp', 'expm1', 'fabs', 'factorial', 'floor', 'fmod', 'frexp', 'fsum', 'gamma', 'gcd', 'hypot', 'inf', 'isclose', 'isfinite', 'isinf', 'isnan', 'isqrt', 'ldexp', 'lgamma', 'log', 'log10', 'log1p', 'log2', 'modf', 'nan', 'perm', 'pi', 'pow', 'prod', 'radians', 'remainder', 'sin', 'sinh', 'sqrt', 'tan', 'tanh', 'tau', 'trunc']\n"
     ]
    }
   ],
   "source": [
    "import math\n",
    "print(dir(math))"
   ]
  },
  {
   "cell_type": "code",
   "execution_count": 19,
   "metadata": {},
   "outputs": [
    {
     "name": "stdout",
     "output_type": "stream",
     "text": [
      "['In', 'Out', '_', '_2', '_5', '_6', '_7', '__', '___', '__builtin__', '__builtins__', '__doc__', '__loader__', '__name__', '__package__', '__spec__', '_dh', '_i', '_i1', '_i10', '_i11', '_i12', '_i13', '_i14', '_i15', '_i16', '_i17', '_i18', '_i19', '_i2', '_i3', '_i4', '_i5', '_i6', '_i7', '_i8', '_i9', '_ih', '_ii', '_iii', '_oh', 'a', 'exit', 'f1', 'f2', 'get_ipython', 'i', 'keyword', 'math', 'my_str', 'quit', 'x']\n"
     ]
    }
   ],
   "source": [
    "print(dir()) #after importing math, it will be available in dir()"
   ]
  },
  {
   "cell_type": "code",
   "execution_count": 20,
   "metadata": {},
   "outputs": [
    {
     "name": "stdout",
     "output_type": "stream",
     "text": [
      "Help on built-in module math:\n",
      "\n",
      "NAME\n",
      "    math\n",
      "\n",
      "DESCRIPTION\n",
      "    This module provides access to the mathematical functions\n",
      "    defined by the C standard.\n",
      "\n",
      "FUNCTIONS\n",
      "    acos(x, /)\n",
      "        Return the arc cosine (measured in radians) of x.\n",
      "    \n",
      "    acosh(x, /)\n",
      "        Return the inverse hyperbolic cosine of x.\n",
      "    \n",
      "    asin(x, /)\n",
      "        Return the arc sine (measured in radians) of x.\n",
      "    \n",
      "    asinh(x, /)\n",
      "        Return the inverse hyperbolic sine of x.\n",
      "    \n",
      "    atan(x, /)\n",
      "        Return the arc tangent (measured in radians) of x.\n",
      "    \n",
      "    atan2(y, x, /)\n",
      "        Return the arc tangent (measured in radians) of y/x.\n",
      "        \n",
      "        Unlike atan(y/x), the signs of both x and y are considered.\n",
      "    \n",
      "    atanh(x, /)\n",
      "        Return the inverse hyperbolic tangent of x.\n",
      "    \n",
      "    ceil(x, /)\n",
      "        Return the ceiling of x as an Integral.\n",
      "        \n",
      "        This is the smallest integer >= x.\n",
      "    \n",
      "    comb(n, k, /)\n",
      "        Number of ways to choose k items from n items without repetition and without order.\n",
      "        \n",
      "        Evaluates to n! / (k! * (n - k)!) when k <= n and evaluates\n",
      "        to zero when k > n.\n",
      "        \n",
      "        Also called the binomial coefficient because it is equivalent\n",
      "        to the coefficient of k-th term in polynomial expansion of the\n",
      "        expression (1 + x)**n.\n",
      "        \n",
      "        Raises TypeError if either of the arguments are not integers.\n",
      "        Raises ValueError if either of the arguments are negative.\n",
      "    \n",
      "    copysign(x, y, /)\n",
      "        Return a float with the magnitude (absolute value) of x but the sign of y.\n",
      "        \n",
      "        On platforms that support signed zeros, copysign(1.0, -0.0)\n",
      "        returns -1.0.\n",
      "    \n",
      "    cos(x, /)\n",
      "        Return the cosine of x (measured in radians).\n",
      "    \n",
      "    cosh(x, /)\n",
      "        Return the hyperbolic cosine of x.\n",
      "    \n",
      "    degrees(x, /)\n",
      "        Convert angle x from radians to degrees.\n",
      "    \n",
      "    dist(p, q, /)\n",
      "        Return the Euclidean distance between two points p and q.\n",
      "        \n",
      "        The points should be specified as sequences (or iterables) of\n",
      "        coordinates.  Both inputs must have the same dimension.\n",
      "        \n",
      "        Roughly equivalent to:\n",
      "            sqrt(sum((px - qx) ** 2.0 for px, qx in zip(p, q)))\n",
      "    \n",
      "    erf(x, /)\n",
      "        Error function at x.\n",
      "    \n",
      "    erfc(x, /)\n",
      "        Complementary error function at x.\n",
      "    \n",
      "    exp(x, /)\n",
      "        Return e raised to the power of x.\n",
      "    \n",
      "    expm1(x, /)\n",
      "        Return exp(x)-1.\n",
      "        \n",
      "        This function avoids the loss of precision involved in the direct evaluation of exp(x)-1 for small x.\n",
      "    \n",
      "    fabs(x, /)\n",
      "        Return the absolute value of the float x.\n",
      "    \n",
      "    factorial(x, /)\n",
      "        Find x!.\n",
      "        \n",
      "        Raise a ValueError if x is negative or non-integral.\n",
      "    \n",
      "    floor(x, /)\n",
      "        Return the floor of x as an Integral.\n",
      "        \n",
      "        This is the largest integer <= x.\n",
      "    \n",
      "    fmod(x, y, /)\n",
      "        Return fmod(x, y), according to platform C.\n",
      "        \n",
      "        x % y may differ.\n",
      "    \n",
      "    frexp(x, /)\n",
      "        Return the mantissa and exponent of x, as pair (m, e).\n",
      "        \n",
      "        m is a float and e is an int, such that x = m * 2.**e.\n",
      "        If x is 0, m and e are both 0.  Else 0.5 <= abs(m) < 1.0.\n",
      "    \n",
      "    fsum(seq, /)\n",
      "        Return an accurate floating point sum of values in the iterable seq.\n",
      "        \n",
      "        Assumes IEEE-754 floating point arithmetic.\n",
      "    \n",
      "    gamma(x, /)\n",
      "        Gamma function at x.\n",
      "    \n",
      "    gcd(x, y, /)\n",
      "        greatest common divisor of x and y\n",
      "    \n",
      "    hypot(...)\n",
      "        hypot(*coordinates) -> value\n",
      "        \n",
      "        Multidimensional Euclidean distance from the origin to a point.\n",
      "        \n",
      "        Roughly equivalent to:\n",
      "            sqrt(sum(x**2 for x in coordinates))\n",
      "        \n",
      "        For a two dimensional point (x, y), gives the hypotenuse\n",
      "        using the Pythagorean theorem:  sqrt(x*x + y*y).\n",
      "        \n",
      "        For example, the hypotenuse of a 3/4/5 right triangle is:\n",
      "        \n",
      "            >>> hypot(3.0, 4.0)\n",
      "            5.0\n",
      "    \n",
      "    isclose(a, b, *, rel_tol=1e-09, abs_tol=0.0)\n",
      "        Determine whether two floating point numbers are close in value.\n",
      "        \n",
      "          rel_tol\n",
      "            maximum difference for being considered \"close\", relative to the\n",
      "            magnitude of the input values\n",
      "          abs_tol\n",
      "            maximum difference for being considered \"close\", regardless of the\n",
      "            magnitude of the input values\n",
      "        \n",
      "        Return True if a is close in value to b, and False otherwise.\n",
      "        \n",
      "        For the values to be considered close, the difference between them\n",
      "        must be smaller than at least one of the tolerances.\n",
      "        \n",
      "        -inf, inf and NaN behave similarly to the IEEE 754 Standard.  That\n",
      "        is, NaN is not close to anything, even itself.  inf and -inf are\n",
      "        only close to themselves.\n",
      "    \n",
      "    isfinite(x, /)\n",
      "        Return True if x is neither an infinity nor a NaN, and False otherwise.\n",
      "    \n",
      "    isinf(x, /)\n",
      "        Return True if x is a positive or negative infinity, and False otherwise.\n",
      "    \n",
      "    isnan(x, /)\n",
      "        Return True if x is a NaN (not a number), and False otherwise.\n",
      "    \n",
      "    isqrt(n, /)\n",
      "        Return the integer part of the square root of the input.\n",
      "    \n",
      "    ldexp(x, i, /)\n",
      "        Return x * (2**i).\n",
      "        \n",
      "        This is essentially the inverse of frexp().\n",
      "    \n",
      "    lgamma(x, /)\n",
      "        Natural logarithm of absolute value of Gamma function at x.\n",
      "    \n",
      "    log(...)\n",
      "        log(x, [base=math.e])\n",
      "        Return the logarithm of x to the given base.\n",
      "        \n",
      "        If the base not specified, returns the natural logarithm (base e) of x.\n",
      "    \n",
      "    log10(x, /)\n",
      "        Return the base 10 logarithm of x.\n",
      "    \n",
      "    log1p(x, /)\n",
      "        Return the natural logarithm of 1+x (base e).\n",
      "        \n",
      "        The result is computed in a way which is accurate for x near zero.\n",
      "    \n",
      "    log2(x, /)\n",
      "        Return the base 2 logarithm of x.\n",
      "    \n",
      "    modf(x, /)\n",
      "        Return the fractional and integer parts of x.\n",
      "        \n",
      "        Both results carry the sign of x and are floats.\n",
      "    \n",
      "    perm(n, k=None, /)\n",
      "        Number of ways to choose k items from n items without repetition and with order.\n",
      "        \n",
      "        Evaluates to n! / (n - k)! when k <= n and evaluates\n",
      "        to zero when k > n.\n",
      "        \n",
      "        If k is not specified or is None, then k defaults to n\n",
      "        and the function returns n!.\n",
      "        \n",
      "        Raises TypeError if either of the arguments are not integers.\n",
      "        Raises ValueError if either of the arguments are negative.\n",
      "    \n",
      "    pow(x, y, /)\n",
      "        Return x**y (x to the power of y).\n",
      "    \n",
      "    prod(iterable, /, *, start=1)\n",
      "        Calculate the product of all the elements in the input iterable.\n",
      "        \n",
      "        The default start value for the product is 1.\n",
      "        \n",
      "        When the iterable is empty, return the start value.  This function is\n",
      "        intended specifically for use with numeric values and may reject\n",
      "        non-numeric types.\n",
      "    \n",
      "    radians(x, /)\n",
      "        Convert angle x from degrees to radians.\n",
      "    \n",
      "    remainder(x, y, /)\n",
      "        Difference between x and the closest integer multiple of y.\n",
      "        \n",
      "        Return x - n*y where n*y is the closest integer multiple of y.\n",
      "        In the case where x is exactly halfway between two multiples of\n",
      "        y, the nearest even value of n is used. The result is always exact.\n",
      "    \n",
      "    sin(x, /)\n",
      "        Return the sine of x (measured in radians).\n",
      "    \n",
      "    sinh(x, /)\n",
      "        Return the hyperbolic sine of x.\n",
      "    \n",
      "    sqrt(x, /)\n",
      "        Return the square root of x.\n",
      "    \n",
      "    tan(x, /)\n",
      "        Return the tangent of x (measured in radians).\n",
      "    \n",
      "    tanh(x, /)\n",
      "        Return the hyperbolic tangent of x.\n",
      "    \n",
      "    trunc(x, /)\n",
      "        Truncates the Real x to the nearest Integral toward 0.\n",
      "        \n",
      "        Uses the __trunc__ magic method.\n",
      "\n",
      "DATA\n",
      "    e = 2.718281828459045\n",
      "    inf = inf\n",
      "    nan = nan\n",
      "    pi = 3.141592653589793\n",
      "    tau = 6.283185307179586\n",
      "\n",
      "FILE\n",
      "    (built-in)\n",
      "\n",
      "\n"
     ]
    }
   ],
   "source": [
    "help(math) #provides documentation and explanation of math module"
   ]
  },
  {
   "cell_type": "code",
   "execution_count": 21,
   "metadata": {},
   "outputs": [
    {
     "name": "stdout",
     "output_type": "stream",
     "text": [
      "\n",
      "Please wait a moment while I gather a list of all available modules...\n",
      "\n"
     ]
    },
    {
     "name": "stderr",
     "output_type": "stream",
     "text": [
      "C:\\ProgramData\\Anaconda3\\lib\\site-packages\\IPython\\kernel\\__init__.py:12: ShimWarning: The `IPython.kernel` package has been deprecated since IPython 4.0.You should import from ipykernel or jupyter_client instead.\n",
      "  warn(\"The `IPython.kernel` package has been deprecated since IPython 4.0.\"\n",
      "C:\\ProgramData\\Anaconda3\\lib\\site-packages\\nltk\\twitter\\__init__.py:21: UserWarning: The twython library has not been installed. Some functionality from the twitter package will not be available.\n",
      "  warnings.warn(\n",
      "C:\\ProgramData\\Anaconda3\\lib\\site-packages\\setuptools\\distutils_patch.py:25: UserWarning: Distutils was imported before Setuptools. This usage is discouraged and may exhibit undesirable behaviors or errors. Please use Setuptools' objects directly or at least import Setuptools first.\n",
      "  warnings.warn(\n",
      "C:\\ProgramData\\Anaconda3\\lib\\site-packages\\skimage\\viewer\\utils\\__init__.py:1: UserWarning: Recommended matplotlib backend is `Agg` for full skimage.viewer functionality.\n",
      "  from .core import *\n",
      "C:\\ProgramData\\Anaconda3\\lib\\site-packages\\qtawesome\\iconic_font.py:312: UserWarning: You need to have a running QApplication to use QtAwesome!\n",
      "  warnings.warn(\"You need to have a running \"\n",
      "C:\\ProgramData\\Anaconda3\\lib\\pkgutil.py:107: VisibleDeprecationWarning: zmq.eventloop.minitornado is deprecated in pyzmq 14.0 and will be removed.\n",
      "    Install tornado itself to use zmq with the tornado IOLoop.\n",
      "    \n",
      "  yield from walk_packages(path, info.name+'.', onerror)\n"
     ]
    },
    {
     "name": "stdout",
     "output_type": "stream",
     "text": [
      "Cython              brain_scipy_signal  mailcap             snowballstemmer\n",
      "IPython             brain_six           markupsafe          socket\n",
      "OpenSSL             brain_ssl           marshal             socketserver\n",
      "PIL                 brain_subprocess    math                socks\n",
      "PyQt5               brain_threading     matplotlib          sockshandler\n",
      "__future__          brain_typing        mccabe              sortedcollections\n",
      "_abc                brain_uuid          menuinst            sortedcontainers\n",
      "_ast                brotli              mimetypes           soupsieve\n",
      "_asyncio            bs4                 mistune             sphinx\n",
      "_bisect             builtins            mkl                 sphinxcontrib\n",
      "_blake2             bz2                 mkl_fft             spyder\n",
      "_bootlocale         cProfile            mkl_random          spyder_kernels\n",
      "_bz2                calendar            mmap                sqlalchemy\n",
      "_cffi_backend       certifi             mmapfile            sqlite3\n",
      "_codecs             cffi                mmsystem            sre_compile\n",
      "_codecs_cn          cgi                 mock                sre_constants\n",
      "_codecs_hk          cgitb               modulefinder        sre_parse\n",
      "_codecs_iso2022     chardet             more_itertools      ssl\n",
      "_codecs_jp          chunk               mpmath              sspi\n",
      "_codecs_kr          click               msgpack             sspicon\n",
      "_codecs_tw          cloudpickle         msilib              stat\n",
      "_collections        clyent              msvcrt              statistics\n",
      "_collections_abc    cmath               multipledispatch    statsmodels\n",
      "_compat_pickle      cmd                 multiprocessing     storemagic\n",
      "_compression        code                nacl                string\n",
      "_contextvars        codecs              navigator_updater   stringprep\n",
      "_csv                codeop              nbconvert           struct\n",
      "_ctypes             collections         nbformat            subprocess\n",
      "_ctypes_test        colorama            netbios             sunau\n",
      "_datetime           colorsys            netrc               symbol\n",
      "_decimal            commctrl            networkx            sympy\n",
      "_dummy_thread       compileall          nltk                sympyprinting\n",
      "_elementtree        comtypes            nntplib             symtable\n",
      "_functools          concurrent          nose                sys\n",
      "_hashlib            conda               notebook            sysconfig\n",
      "_heapq              conda_build         nt                  tables\n",
      "_imp                conda_env           ntpath              tabnanny\n",
      "_io                 conda_package_handling ntsecuritycon       tarfile\n",
      "_json               conda_verify        nturl2path          tblib\n",
      "_locale             configparser        numba               telnetlib\n",
      "_lsprof             contextlib          numbers             tempfile\n",
      "_lzma               contextlib2         numexpr             terminado\n",
      "_markupbase         contextvars         numpy               test\n",
      "_md5                copy                numpydoc            test_data\n",
      "_msi                copyreg             odbc                test_pycosat\n",
      "_multibytecodec     crypt               olefile             testpath\n",
      "_multiprocessing    cryptography        opcode              tests\n",
      "_nsis               csv                 openpyxl            textwrap\n",
      "_opcode             ctypes              operator            this\n",
      "_operator           curl                optparse            threading\n",
      "_osx_support        curses              os                  threadpoolctl\n",
      "_overlapped         cwp                 packaging           time\n",
      "_pickle             cycler              pandas              timeit\n",
      "_py_abc             cython              pandocfilters       timer\n",
      "_pydecimal          cythonmagic         paramiko            tkinter\n",
      "_pyio               cytoolz             parser              tlz\n",
      "_pyrsistent_version dask                parso               token\n",
      "_pytest             dataclasses         partd               tokenize\n",
      "_queue              datetime            past                toml\n",
      "_random             dateutil            path                toolz\n",
      "_sha1               dbi                 pathlib             tornado\n",
      "_sha256             dbm                 pathlib2            tqdm\n",
      "_sha3               dde                 pathtools           trace\n",
      "_sha512             decimal             patsy               traceback\n",
      "_signal             decorator           pdb                 tracemalloc\n",
      "_sitebuiltins       defusedxml          pep8                traitlets\n",
      "_socket             diff_match_patch    perfmon             tty\n",
      "_sqlite3            difflib             pexpect             turtle\n",
      "_sre                dis                 pickle              turtledemo\n",
      "_ssl                distributed         pickleshare         types\n",
      "_stat               distutils           pickletools         typing\n",
      "_statistics         doctest             pip                 typing_extensions\n",
      "_string             docutils            pipes               ujson\n",
      "_strptime           dummy_threading     pkg_resources       unicodecsv\n",
      "_struct             easy_install        pkginfo             unicodedata\n",
      "_symtable           email               pkgutil             unittest\n",
      "_system_path        encodings           platform            urllib\n",
      "_testbuffer         ensurepip           plistlib            urllib3\n",
      "_testcapi           entrypoints         pluggy              uu\n",
      "_testconsole        enum                ply                 uuid\n",
      "_testimportmultiple errno               poplib              venv\n",
      "_testinternalcapi   et_xmlfile          posixpath           warnings\n",
      "_testmultiphase     f2                  pprint              watchdog\n",
      "_thread             fastcache           profile             wave\n",
      "_threading_local    faulthandler        prometheus_client   wcwidth\n",
      "_tkinter            filecmp             prompt_toolkit      weakref\n",
      "_tracemalloc        fileinput           pstats              webbrowser\n",
      "_warnings           filelock            psutil              webencodings\n",
      "_weakref            firstcode           pty                 werkzeug\n",
      "_weakrefset         flake8              pvectorc            wheel\n",
      "_win32sysloader     flask               py                  widgetsnbextension\n",
      "_winapi             fnmatch             py_compile          win2kras\n",
      "_winxptheme         formatter           pyclbr              win32api\n",
      "_xxsubinterpreters  fractions           pycodestyle         win32clipboard\n",
      "_yaml               fsspec              pycosat             win32com\n",
      "abc                 ftplib              pycparser           win32con\n",
      "adodbapi            functools           pycurl              win32console\n",
      "afxres              future              pydoc               win32cred\n",
      "aifc                gc                  pydoc_data          win32crypt\n",
      "alabaster           genericpath         pydocstyle          win32cryptcon\n",
      "anaconda_navigator  getopt              pyexpat             win32ctypes\n",
      "anaconda_project    getpass             pyflakes            win32event\n",
      "antigravity         gettext             pygments            win32evtlog\n",
      "argh                gevent              pylab               win32evtlogutil\n",
      "argparse            glob                pylint              win32file\n",
      "array               glob2               pyls                win32gui\n",
      "asn1crypto          gmpy2               pyls_jsonrpc        win32gui_struct\n",
      "ast                 greenlet            pyodbc              win32help\n",
      "astroid             gzip                pyparsing           win32inet\n",
      "astropy             h5py                pyreadline          win32inetcon\n",
      "asynchat            hashlib             pyrsistent          win32job\n",
      "asyncio             heapdict            pytest              win32lz\n",
      "asyncore            heapq               pythoncom           win32net\n",
      "atexit              hmac                pytz                win32netcon\n",
      "atomicwrites        html                pywin               win32pdh\n",
      "attr                html5lib            pywin32_bootstrap   win32pdhquery\n",
      "audioop             http                pywin32_testutil    win32pdhutil\n"
     ]
    },
    {
     "name": "stdout",
     "output_type": "stream",
     "text": [
      "autopep8            idlelib             pywintypes          win32pipe\n",
      "autoreload          idna                pywt                win32print\n",
      "babel               imageio             pyximport           win32process\n",
      "backcall            imagesize           qdarkstyle          win32profile\n",
      "backports           imaplib             qtawesome           win32ras\n",
      "base64              imghdr              qtconsole           win32rcparser\n",
      "bcrypt              imp                 qtpy                win32security\n",
      "bdb                 importlib           queue               win32service\n",
      "binascii            importlib_metadata  quopri              win32serviceutil\n",
      "binhex              inspect             random              win32timezone\n",
      "binstar_client      intervaltree        rasutil             win32trace\n",
      "bisect              io                  re                  win32traceutil\n",
      "bitarray            ipaddress           readline            win32transaction\n",
      "bkcharts            ipykernel           regcheck            win32ts\n",
      "bleach              ipykernel_launcher  regex               win32ui\n",
      "bokeh               ipython_genutils    regutil             win32uiole\n",
      "boto                ipywidgets          reprlib             win32verstamp\n",
      "bottleneck          isapi               requests            win32wnet\n",
      "brain_argparse      isort               rlcompleter         win_inet_pton\n",
      "brain_attrs         isympy              rmagic              win_unicode_console\n",
      "brain_boto3         itertools           rope                wincertstore\n",
      "brain_builtin_inference itsdangerous        rtree               winerror\n",
      "brain_collections   jdcal               ruamel_yaml         winioctlcon\n",
      "brain_crypt         jedi                run                 winnt\n",
      "brain_curses        jinja2              runpy               winperf\n",
      "brain_dataclasses   joblib              sched               winpty\n",
      "brain_dateutil      json                scipy               winreg\n",
      "brain_fstrings      json5               scripts             winsound\n",
      "brain_functools     jsonschema          seaborn             winxpgui\n",
      "brain_gi            jupyter             secrets             winxptheme\n",
      "brain_hashlib       jupyter_client      select              wrapt\n",
      "brain_http          jupyter_console     selectors           wsgiref\n",
      "brain_io            jupyter_core        send2trash          xdrlib\n",
      "brain_mechanize     jupyterlab          servicemanager      xlrd\n",
      "brain_multiprocessing jupyterlab_server   setuptools          xlsxwriter\n",
      "brain_namedtuple_enum keyring             shelve              xlwings\n",
      "brain_nose          keyword             shlex               xlwt\n",
      "brain_numpy_core_fromnumeric kiwisolver          shutil              xml\n",
      "brain_numpy_core_function_base lazy_object_proxy   signal              xmlrpc\n",
      "brain_numpy_core_multiarray lib2to3             simplegeneric       xmltodict\n",
      "brain_numpy_core_numeric libarchive          singledispatch      xxsubtype\n",
      "brain_numpy_core_numerictypes libfuturize         singledispatch_helpers yaml\n",
      "brain_numpy_core_umath libpasteurize       sip                 yapf\n",
      "brain_numpy_ndarray lief                sipconfig           yapftests\n",
      "brain_numpy_random_mtrand linecache           sipdistutils        zict\n",
      "brain_numpy_utils   llvmlite            site                zipapp\n",
      "brain_pkg_resources locale              six                 zipfile\n",
      "brain_pytest        locket              skimage             zipimport\n",
      "brain_qt            logging             sklearn             zipp\n",
      "brain_random        lxml                smtpd               zlib\n",
      "brain_re            lzma                smtplib             zmq\n",
      "brain_responses     mailbox             sndhdr              zope\n",
      "\n",
      "Enter any module name to get more help.  Or, type \"modules spam\" to search\n",
      "for modules whose name or summary contain the string \"spam\".\n",
      "\n"
     ]
    }
   ],
   "source": [
    "#To check the list of packages in Anaconda Python\n",
    "help('modules')"
   ]
  },
  {
   "cell_type": "code",
   "execution_count": 22,
   "metadata": {},
   "outputs": [],
   "source": [
    "#Importing a package\n",
    "import numpy"
   ]
  },
  {
   "cell_type": "code",
   "execution_count": 24,
   "metadata": {},
   "outputs": [
    {
     "name": "stdout",
     "output_type": "stream",
     "text": [
      "100\n",
      "Priya\n",
      "Sonia\n"
     ]
    }
   ],
   "source": [
    "#Variables\n",
    "num = 100 #Integer\n",
    "print(num)\n",
    "\n",
    "name = \"Priya\" #String\n",
    "print(name)\n",
    "\n",
    "#Case sensitivity\n",
    "NAME = \"Sonia\"\n",
    "print(NAME)"
   ]
  },
  {
   "cell_type": "code",
   "execution_count": 27,
   "metadata": {},
   "outputs": [
    {
     "name": "stdout",
     "output_type": "stream",
     "text": [
      "<class 'int'>\n",
      "<class 'float'>\n",
      "\n",
      "<class 'int'> 28\n",
      "<class 'int'> 68\n",
      "\n",
      "<class 'float'> 24\n",
      "<class 'float'> 24\n"
     ]
    }
   ],
   "source": [
    "#Python is dynamically typed programming language\n",
    "\n",
    "import sys\n",
    "a = 10\n",
    "print(type(a))\n",
    "\n",
    "b = 10.10\n",
    "print(type(b))\n",
    "print()\n",
    "\n",
    "#------------\n",
    "\n",
    "#Size of int\n",
    "a = 10\n",
    "print(type(a),sys.getsizeof(a))\n",
    "\n",
    "c = 100000000000000000000000000000000000000000000000000000000000000000000000000000000000000000000000\n",
    "print(type(c),sys.getsizeof(c))\n",
    "print()\n",
    "\n",
    "#Size of float\n",
    "d = 10.20\n",
    "print(type(d),sys.getsizeof(d))\n",
    "\n",
    "e = 1000000000000000000000000000000000000000000000000000000000000000000000000000000000000000000000000000.2565789333777777777777777777\n",
    "print(type(e),sys.getsizeof(e))"
   ]
  },
  {
   "cell_type": "code",
   "execution_count": 30,
   "metadata": {},
   "outputs": [
    {
     "name": "stdout",
     "output_type": "stream",
     "text": [
      "140718995486784\n",
      "140718995486784\n",
      "True\n",
      "\n",
      "2459213045168\n",
      "2459213044880\n",
      "False\n",
      "\n",
      "2459213378224\n",
      "2459213379376\n",
      "False\n"
     ]
    }
   ],
   "source": [
    "#id of objects - object reusability concept\n",
    "\n",
    "a = 10\n",
    "print(id(a))\n",
    "b = 10\n",
    "print(id(b)) #object reusability allowed for integer in range -5 to 256\n",
    "print(a is b) #used to compare ids\n",
    "print() \n",
    "\n",
    "a = 1000\n",
    "print(id(a))\n",
    "b = 1000\n",
    "print(id(b))\n",
    "print(a is b)\n",
    "print()\n",
    "\n",
    "a = 10.20\n",
    "print(id(a))\n",
    "b = 10.20\n",
    "print(id(b)) #object reusability NOT allowed for float\n",
    "print(a is b)"
   ]
  },
  {
   "cell_type": "code",
   "execution_count": 31,
   "metadata": {},
   "outputs": [
    {
     "data": {
      "text/plain": [
       "300"
      ]
     },
     "execution_count": 31,
     "metadata": {},
     "output_type": "execute_result"
    }
   ],
   "source": [
    "#a = eval(input())\n",
    "#eval function evaluates any expression within single quotes\n",
    "p = 100\n",
    "eval('p+200')"
   ]
  },
  {
   "cell_type": "code",
   "execution_count": 32,
   "metadata": {},
   "outputs": [
    {
     "ename": "TypeError",
     "evalue": "eval() arg 1 must be a string, bytes or code object",
     "output_type": "error",
     "traceback": [
      "\u001b[1;31m---------------------------------------------------------------------------\u001b[0m",
      "\u001b[1;31mTypeError\u001b[0m                                 Traceback (most recent call last)",
      "\u001b[1;32m<ipython-input-32-135f65fc5dd0>\u001b[0m in \u001b[0;36m<module>\u001b[1;34m\u001b[0m\n\u001b[1;32m----> 1\u001b[1;33m \u001b[0meval\u001b[0m\u001b[1;33m(\u001b[0m\u001b[1;33m[\u001b[0m\u001b[1;36m10\u001b[0m\u001b[1;33m,\u001b[0m\u001b[1;36m20\u001b[0m\u001b[1;33m,\u001b[0m\u001b[1;36m30\u001b[0m\u001b[1;33m]\u001b[0m\u001b[1;33m)\u001b[0m \u001b[1;31m#argument of eval function must be in quotes\u001b[0m\u001b[1;33m\u001b[0m\u001b[1;33m\u001b[0m\u001b[0m\n\u001b[0m",
      "\u001b[1;31mTypeError\u001b[0m: eval() arg 1 must be a string, bytes or code object"
     ]
    }
   ],
   "source": [
    "eval([10,20,30]) #argument of eval function must be in quotes"
   ]
  },
  {
   "cell_type": "code",
   "execution_count": 33,
   "metadata": {},
   "outputs": [
    {
     "data": {
      "text/plain": [
       "[10, 20, 30]"
      ]
     },
     "execution_count": 33,
     "metadata": {},
     "output_type": "execute_result"
    }
   ],
   "source": [
    "eval('[10,20,30]')"
   ]
  },
  {
   "cell_type": "code",
   "execution_count": 34,
   "metadata": {
    "scrolled": true
   },
   "outputs": [
    {
     "name": "stdout",
     "output_type": "stream",
     "text": [
      "Enter a number: 10\n",
      "10 <class 'int'>\n"
     ]
    }
   ],
   "source": [
    "#Eval function\n",
    "#case1:\n",
    "a = int(input(\"Enter a number: \")) \n",
    "print(a, type(a))"
   ]
  },
  {
   "cell_type": "code",
   "execution_count": 35,
   "metadata": {},
   "outputs": [
    {
     "name": "stdout",
     "output_type": "stream",
     "text": [
      "Enter a number: 4.6\n",
      "4.6 <class 'float'>\n"
     ]
    }
   ],
   "source": [
    "b = eval(input(\"Enter a number: \"))\n",
    "print(b, type(b))"
   ]
  },
  {
   "cell_type": "code",
   "execution_count": 36,
   "metadata": {},
   "outputs": [
    {
     "name": "stdout",
     "output_type": "stream",
     "text": [
      "Enter a list: [10,20,30]\n",
      "['[', '1', '0', ',', '2', '0', ',', '3', '0', ']'] <class 'list'>\n"
     ]
    }
   ],
   "source": [
    "#Eval function\n",
    "#case 2:\n",
    "a = list(input(\"Enter a list: \"))\n",
    "print(a, type(a)) #Does not give the expected result"
   ]
  },
  {
   "cell_type": "code",
   "execution_count": 37,
   "metadata": {},
   "outputs": [
    {
     "name": "stdout",
     "output_type": "stream",
     "text": [
      "Enter a list: [10,20,30]\n",
      "[10, 20, 30] <class 'list'>\n"
     ]
    }
   ],
   "source": [
    "b = eval(input(\"Enter a list: \"))\n",
    "print(b, type(b))"
   ]
  },
  {
   "cell_type": "code",
   "execution_count": 38,
   "metadata": {},
   "outputs": [
    {
     "name": "stdout",
     "output_type": "stream",
     "text": [
      "range(1, 20, 2)\n"
     ]
    }
   ],
   "source": [
    "print(range(1,20,2)) #returns range object"
   ]
  },
  {
   "cell_type": "code",
   "execution_count": 39,
   "metadata": {},
   "outputs": [
    {
     "name": "stdout",
     "output_type": "stream",
     "text": [
      "[1, 3, 5, 7, 9, 11, 13, 15, 17, 19]\n"
     ]
    }
   ],
   "source": [
    "print(list(range(1,20,2)))"
   ]
  },
  {
   "cell_type": "code",
   "execution_count": 40,
   "metadata": {},
   "outputs": [
    {
     "name": "stdout",
     "output_type": "stream",
     "text": [
      "[-10, -9, -8, -7, -6, -5, -4, -3, -2, -1, 0, 1, 2, 3, 4, 5, 6, 7, 8, 9]\n",
      "[]\n",
      "[10, 9, 8, 7, 6, 5, 4, 3, 2, 1, 0, -1, -2, -3, -4, -5, -6, -7, -8, -9]\n",
      "[10, 8, 6, 4, 2, 0, -2, -4, -6, -8]\n",
      "[10, 7, 4, 1, -2, -5, -8]\n"
     ]
    }
   ],
   "source": [
    "print(list(range(-10,10,1)))\n",
    "print(list(range(-10,10,-1)))\n",
    "print(list(range(10,-10,-1)))\n",
    "print(list(range(10,-10,-2)))\n",
    "print(list(range(10,-10,-3)))"
   ]
  }
 ],
 "metadata": {
  "kernelspec": {
   "display_name": "Python 3",
   "language": "python",
   "name": "python3"
  },
  "language_info": {
   "codemirror_mode": {
    "name": "ipython",
    "version": 3
   },
   "file_extension": ".py",
   "mimetype": "text/x-python",
   "name": "python",
   "nbconvert_exporter": "python",
   "pygments_lexer": "ipython3",
   "version": "3.8.3"
  }
 },
 "nbformat": 4,
 "nbformat_minor": 4
}
